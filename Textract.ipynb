{
  "nbformat": 4,
  "nbformat_minor": 0,
  "metadata": {
    "colab": {
      "provenance": [],
      "authorship_tag": "ABX9TyOhNcDY3ibViLOU7fzql6vN",
      "include_colab_link": true
    },
    "kernelspec": {
      "name": "python3",
      "display_name": "Python 3"
    },
    "language_info": {
      "name": "python"
    }
  },
  "cells": [
    {
      "cell_type": "markdown",
      "metadata": {
        "id": "view-in-github",
        "colab_type": "text"
      },
      "source": [
        "<a href=\"https://colab.research.google.com/github/siqueirago/Transcrevendo-imagem-em-texto/blob/main/Textract.ipynb\" target=\"_parent\"><img src=\"https://colab.research.google.com/assets/colab-badge.svg\" alt=\"Open In Colab\"/></a>"
      ]
    },
    {
      "cell_type": "code",
      "execution_count": null,
      "metadata": {
        "id": "NzUi3GwWql3j"
      },
      "outputs": [],
      "source": [
        "import boto3\n",
        "\n",
        "def transcribe_image(image_path):\n",
        "    \"\"\"\n",
        "    Transcreve o texto de uma imagem usando o Amazon Textract.\n",
        "\n",
        "    Args:\n",
        "        image_path (str): O caminho para o arquivo de imagem.\n",
        "\n",
        "    Returns:\n",
        "        str: O texto transcrito da imagem.\n",
        "            Retorna None em caso de erro ou se nenhum texto for encontrado.\n",
        "    \"\"\"\n",
        "\n",
        "    try:\n",
        "        # Inicializa o cliente do Amazon Textract\n",
        "        textract = boto3.client('textract')\n",
        "\n",
        "        # Abre o arquivo de imagem em modo de leitura binária\n",
        "        with open(image_path, 'rb') as image_file:\n",
        "            image_bytes = image_file.read()\n",
        "\n",
        "        # Chama o método analyze_document para analisar a imagem\n",
        "        response = textract.analyze_document(\n",
        "            Document={'Bytes': image_bytes},\n",
        "            FeatureTypes=['TEXT']  # Define o tipo de análise como TEXT\n",
        "        )\n",
        "\n",
        "        # Extrai o texto dos blocos de texto detectados\n",
        "        text = \"\"\n",
        "        for block in response['Blocks']:\n",
        "            if block['BlockType'] == 'LINE':\n",
        "                text += block['Text'] + \"\\n\"\n",
        "\n",
        "        return text\n",
        "\n",
        "    except Exception as e:\n",
        "        print(f\"Erro ao transcrever a imagem: {e}\")\n",
        "        return None\n",
        "\n",
        "if __name__ == \"__main__\":\n",
        "    # Substitua pelo caminho da sua imagem\n",
        "    image_path = \"caminho/para/sua/imagem.jpg\"\n",
        "\n",
        "    transcribed_text = transcribe_image(image_path)\n",
        "\n",
        "    if transcribed_text:\n",
        "        print(\"Texto transcrito:\")\n",
        "        print(transcribed_text)\n",
        "    else:\n",
        "        print(\"Nenhum texto foi encontrado na imagem.\")"
      ]
    }
  ]
}