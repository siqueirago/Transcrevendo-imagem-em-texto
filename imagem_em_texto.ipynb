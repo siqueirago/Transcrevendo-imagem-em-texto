{
  "nbformat": 4,
  "nbformat_minor": 0,
  "metadata": {
    "colab": {
      "provenance": [],
      "authorship_tag": "ABX9TyOVUF1f/SgrCyNoYxh6Lc6+",
      "include_colab_link": true
    },
    "kernelspec": {
      "name": "python3",
      "display_name": "Python 3"
    },
    "language_info": {
      "name": "python"
    }
  },
  "cells": [
    {
      "cell_type": "markdown",
      "metadata": {
        "id": "view-in-github",
        "colab_type": "text"
      },
      "source": [
        "<a href=\"https://colab.research.google.com/github/siqueirago/Transcrevendo-imagem-em-texto/blob/main/imagem_em_texto.ipynb\" target=\"_parent\"><img src=\"https://colab.research.google.com/assets/colab-badge.svg\" alt=\"Open In Colab\"/></a>"
      ]
    },
    {
      "cell_type": "markdown",
      "source": [
        "# Transcrevendo uma Imagem em Texto"
      ],
      "metadata": {
        "id": "FU2cuZwgefeU"
      }
    },
    {
      "cell_type": "markdown",
      "source": [
        "## 1. Instalar o Tesseract OCR e o PyTesseract:"
      ],
      "metadata": {
        "id": "3l2meAwQe-or"
      }
    },
    {
      "cell_type": "code",
      "execution_count": null,
      "metadata": {
        "collapsed": true,
        "id": "rtR29XBueZfZ"
      },
      "outputs": [],
      "source": [
        "!apt-get install tesseract-ocr\n",
        "!pip install pytesseract"
      ]
    },
    {
      "cell_type": "markdown",
      "source": [
        "## Importar as bibliotecas:"
      ],
      "metadata": {
        "id": "Fy_Xu7vAfbAI"
      }
    },
    {
      "cell_type": "code",
      "source": [
        "import pytesseract\n",
        "from PIL import Image"
      ],
      "metadata": {
        "id": "5MztuFV7fjcH"
      },
      "execution_count": 2,
      "outputs": []
    },
    {
      "cell_type": "code",
      "source": [
        "image = Image.open(\"/content/imagem_teste.png\")\n",
        "text = pytesseract.image_to_string(image)\n",
        "\n",
        "print(text)"
      ],
      "metadata": {
        "colab": {
          "base_uri": "https://localhost:8080/"
        },
        "id": "ZqkjSUZjfyK3",
        "outputId": "32f358e8-2d1a-4bca-dcb2-7217b9cd795e"
      },
      "execution_count": 4,
      "outputs": [
        {
          "output_type": "stream",
          "name": "stdout",
          "text": [
            "Lista de Material Escolar\n",
            "-3 rolos de fita crepe\n",
            "\n",
            "-1 bloco de canson A4\n",
            "\n",
            ".1 fita adesiva\n",
            "\n",
            "-5 folhas de cartolina\n",
            "\n",
            "-3 placas de EVA\n",
            "\n",
            "-1 EVA com gliter\n",
            "\n",
            "-5 papel colorset\n",
            "\n",
            "-1 caneta permanente\n",
            "\n",
            "-1 pacote palito de sorvete\n",
            ".4 papel cartao\n",
            "\n",
            "-1 kit leoni n. 1\n",
            "\n",
            "-1 dicionario\n",
            "\n",
            "-1 pincel n.14\n",
            "\n",
            "-1 pasta 20mm\n",
            "\n",
            " \n",
            "\f\n"
          ]
        }
      ]
    }
  ]
}